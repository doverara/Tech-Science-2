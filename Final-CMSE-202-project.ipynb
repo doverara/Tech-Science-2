{
 "cells": [
  {
   "cell_type": "markdown",
   "id": "103298ab-8266-40e1-970e-6a0ce4bfd7f1",
   "metadata": {},
   "source": [
    "# Project Overview\n",
    "\n",
    "Brief 1–2 sentence description of your question\n",
    "\n",
    "Team member names\n",
    "\n",
    "Project title"
   ]
  },
  {
   "cell_type": "markdown",
   "id": "ee87dedb-427b-49b6-935b-b2b790c3e4b7",
   "metadata": {},
   "source": [
    "# Abstract\n",
    "\n",
    "400–700 words summarizing:\n",
    "\n",
    "Your research question\n",
    "\n",
    "Data used\n",
    "\n",
    "Modeling methods (SVM, RF, etc.)\n",
    "\n",
    "Key findings\n",
    "\n",
    "Challenges + next steps"
   ]
  },
  {
   "cell_type": "markdown",
   "id": "f7781983-747e-485d-8f42-0a0d4e21782e",
   "metadata": {},
   "source": [
    "# Data Description\n",
    "\n",
    "Mention source: SDSS SkyServer (DR18)\n",
    "\n",
    "Add SQL query (formatted)\n",
    "\n",
    "Explain dataset shape + features\n",
    "\n",
    "Table of feature definitions:\n",
    "\n",
    "u, g, r = photometric bands\n",
    "\n",
    "redshift, subclass, etc."
   ]
  },
  {
   "cell_type": "markdown",
   "id": "cae44f7a-d95e-47ef-a962-fa7cff0ddf3d",
   "metadata": {},
   "source": [
    "# Data Preprocessing\n",
    "\n",
    "Show steps like:\n",
    "\n",
    "Filtering to class == 'GALAXY'\n",
    "\n",
    "Handling missing values\n",
    "\n",
    "Feature selection\n",
    "\n",
    "Handling class imbalance (class_weight='balanced')"
   ]
  },
  {
   "cell_type": "markdown",
   "id": "9c39e0da-b96d-4a25-bece-146e71bfdab8",
   "metadata": {},
   "source": [
    "# Data Visualization\n",
    "Subclass distribution bar plot\n",
    "\n",
    "Histogram or scatterplot of key features\n",
    "\n",
    "Optional: Correlation heatmap\n"
   ]
  },
  {
   "cell_type": "markdown",
   "id": "14a098e9-ae8b-49d0-ad4c-66387d35855d",
   "metadata": {},
   "source": [
    "# Modeling & Evaluation\n",
    "## Support Vector Machine (SVM)\n",
    "Train/test split\n",
    "\n",
    "Fit SVM with class_weight='balanced'\n",
    "\n",
    "Print accuracy\n",
    "\n",
    "Show:\n",
    "\n",
    "Confusion matrix\n",
    "\n",
    "Classification report\n",
    "\n",
    "## Logistic Regression\n",
    "Fit model\n",
    "\n",
    "Evaluate with same visuals (conf matrix + report)\n",
    "\n",
    "## Random Forest Classifier\n",
    "Fit RF\n",
    "\n",
    "Show feature importance bar chart\n",
    "\n",
    "Evaluate with confusion matrix + report\n"
   ]
  },
  {
   "cell_type": "markdown",
   "id": "076ef467-b2e8-4acf-b3eb-abb5aeb801ec",
   "metadata": {},
   "source": [
    "# Model Comparison\n",
    "Create table or bar chart comparing:\n",
    "\n",
    "Accuracy\n",
    "\n",
    "F1-score (macro/weighted)\n",
    "\n",
    "Notes on class performance"
   ]
  },
  {
   "cell_type": "markdown",
   "id": "5894b414-b945-4c24-8a74-1893eea5bd5e",
   "metadata": {},
   "source": [
    "# Summary & Conclusion\n",
    "Did the models answer the question?\n",
    "\n",
    "What worked best?\n",
    "\n",
    "What were the biggest challenges?\n",
    "\n",
    "Mention imbalance and potential future improvements (e.g., removing rare subclasses)"
   ]
  },
  {
   "cell_type": "code",
   "execution_count": null,
   "id": "0d3476a3-0b24-4d60-a44f-8bbe8b6f16ae",
   "metadata": {},
   "outputs": [],
   "source": []
  }
 ],
 "metadata": {
  "kernelspec": {
   "display_name": "Python 3.11 (default)",
   "language": "python",
   "name": "python3"
  },
  "language_info": {
   "codemirror_mode": {
    "name": "ipython",
    "version": 3
   },
   "file_extension": ".py",
   "mimetype": "text/x-python",
   "name": "python",
   "nbconvert_exporter": "python",
   "pygments_lexer": "ipython3",
   "version": "3.11.11"
  }
 },
 "nbformat": 4,
 "nbformat_minor": 5
}
