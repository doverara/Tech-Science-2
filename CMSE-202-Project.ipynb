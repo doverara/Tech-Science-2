{
 "cells": [
  {
   "cell_type": "markdown",
   "id": "2324b4c0-e266-4431-b398-cc649790652f",
   "metadata": {},
   "source": [

    "# CMSE 202 Final Project: ?\n",
    "\n",
    "**Group Members:**\n",
    "- Araynah D.\n",
    "- Palmer W.\n",
    "- Katrina S.\n",
    "- Yihan W.\n",
    "\n",
    "**Date:** [April 20th, 2025]\n"

   ]
  },
  {
   "cell_type": "markdown",
   "id": "bbb5efd3-a92f-4c9f-b6d2-c9be1f32816e",
   "metadata": {},
   "source": [
    "# Abstract\n",
    "\n",
    "### Research Question: \n",
    "\n",
    "\n",
    "\n",
    "### Methodologies & Reasoning\n",
    "\n",
    "This section details the thought process and steps each team member followed in developing the questions and answers for this project. By breaking down our individual approaches, we aim to provide transparency and insight into our problem-solving methodologies.\n",
    "\n",
    "**Team Contributions:**\n",
    "\n",
    "- **Araynah D.**:  \n",
    "  *(Description of the approach or key insights can be added here.)*\n",
    "\n",
    "- **Palmer W.**:  \n",
    "  *(Description of the approach or key insights can be added here.)*\n",
    "\n",
    "- **Katrina S.**:  \n",
    "  *(Description of the approach or key insights can be added here.)*\n",
    "\n",
    "- **Yihan W.**:  \n",
    "  *(Description of the approach or key insights can be added here.)*\n",
    "\n",
    "## Checkoff list\n",
    "- The scientific question(s) addressed\n",
    "- Methods used\n",
    "- Key findings/results\n",
    "- Conclusions drawn from your analysis"
   ]
  },
  {
   "cell_type": "code",
   "execution_count": 7,
   "id": "e1a51a65-d453-41ae-b514-e8cbff1077db",
   "metadata": {},
   "outputs": [],
   "source": [
    "# Import necessary Python libraries\n",
    "import pandas as pd\n",
    "import numpy as np\n",
    "import matplotlib.pyplot as plt\n",
    "import seaborn as sns\n",
    "from sklearn.model_selection import train_test_split\n",
    "from sklearn.svm import SVC\n",
    "from sklearn.linear_model import LogisticRegression, Perceptron\n",
    "from sklearn.metrics import classification_report, confusion_matrix\n",
    "import networkx as nx"
   ]
  },
  {
   "cell_type": "markdown",
   "id": "32d366c7-15db-4de6-848c-1ec854e08e1e",
   "metadata": {},
   "source": [
    "# data file\n",
    "The data file is generated from 'https://skyserver.sdss.org/dr18/SearchTools/sql#' using the following query: \n",
    "```brash\n",
    "SELECT TOP 65000\n",
    "    p.objID, p.ra, p.dec,\n",
    "    p.u, p.g, p.r, p.i, p.z,\n",
    "    (p.u - p.g) AS u_g,\n",
    "    (p.g - p.r) AS g_r,\n",
    "    (p.r - p.i) AS r_i,\n",
    "    (p.i - p.z) AS i_z,\n",
    "    s.z AS redshift,\n",
    "    s.class, s.subclass\n",
    "FROM PhotoObj AS p\n",
    "JOIN SpecObj AS s\n",
    "    ON p.objID = s.bestObjID\n",
    "WHERE s.class = 'GALAXY'\n",
    "\n",
    "```\n",
    "\n",
    "- `objID` - Unique object identifier in SDSS database\n",
    "- `ra` - Right Ascension, the celestial equivalent of longitude.\n",
    "- `dec` - \tDeclination, the celestial equivalent of latitude.\n",
    "- `u` - Ultraviolet magnitude\n",
    "- `g` - Green magnitude\n",
    "- `r` - Red magnitude\n",
    "- `i` - Near-infrared magnitude\n",
    "- `z` - Infrared magnitude\n",
    "- `u_g` - Difference between ultraviolet (u) and green (g) light.\n",
    "- `g_r` - Difference between green (g) and red (r) light.\n",
    "- `r_i` - Difference between red (r) and near-infrared (i) light.\n",
    "- `i_z` - Difference between near-IR (i) and IR (z) light.\n",
    "- `redshift` - the percent of the observed light from an object (galaxy) that has been stretched compared to its original (emitted) wavelength.\n",
    "- `class` - Object classification\n",
    "- `subclass`\n",
    "    - STARFORMING: Ongoing star formation\n",
    "\n",
    "    - STARBURST: Intense star formation\n",
    "\n",
    "    - AGN: Active Galactic Nucleus\n",
    "\n",
    "    - BROADLINE: AGN with broad emission lines\n",
    "\n",
    "    - None/NaN: No subclass assigned"
   ]
  },
  {
   "cell_type": "code",


   "execution_count": 5,

   "id": "1343edae-c767-447a-b217-5617b3b45468",
   "metadata": {},
   "outputs": [],
   "source": [

    "# Import necessary Python libraries\n",
    "import pandas as pd\n",
    "import numpy as np\n",
    "import matplotlib.pyplot as plt\n",
    "import seaborn as sns\n",
    "from sklearn.model_selection import train_test_split\n",
    "from sklearn.svm import SVC\n",
    "from sklearn.linear_model import LogisticRegression, Perceptron\n",
    "from sklearn.metrics import classification_report, confusion_matrix\n",
    "import networkx as nx\n"

   ]
  },
  {
   "cell_type": "code",

   "execution_count": 6,

   "id": "eb9029cd-5337-420e-a22b-f60662aa7ad3",
   "metadata": {},
   "outputs": [
    {
     "data": {
      "text/html": [
       "<div>\n",
       "<style scoped>\n",
       "    .dataframe tbody tr th:only-of-type {\n",
       "        vertical-align: middle;\n",
       "    }\n",
       "\n",
       "    .dataframe tbody tr th {\n",
       "        vertical-align: top;\n",
       "    }\n",
       "\n",
       "    .dataframe thead th {\n",
       "        text-align: right;\n",
       "    }\n",
       "</style>\n",
       "<table border=\"1\" class=\"dataframe\">\n",
       "  <thead>\n",
       "    <tr style=\"text-align: right;\">\n",
       "      <th></th>\n",
       "      <th>objID</th>\n",
       "      <th>ra</th>\n",
       "      <th>dec</th>\n",
       "      <th>u</th>\n",
       "      <th>g</th>\n",
       "      <th>r</th>\n",
       "      <th>i</th>\n",
       "      <th>z</th>\n",
       "      <th>u_g</th>\n",
       "      <th>g_r</th>\n",
       "      <th>r_i</th>\n",
       "      <th>i_z</th>\n",
       "      <th>redshift</th>\n",
       "      <th>class</th>\n",
       "      <th>subclass</th>\n",
       "    </tr>\n",
       "  </thead>\n",
       "  <tbody>\n",
       "    <tr>\n",
       "      <th>5</th>\n",
       "      <td>1237648720145285449</td>\n",
       "      <td>153.306341</td>\n",
       "      <td>-0.896848</td>\n",
       "      <td>18.95948</td>\n",
       "      <td>18.13569</td>\n",
       "      <td>17.90530</td>\n",
       "      <td>17.61372</td>\n",
       "      <td>17.52285</td>\n",
       "      <td>0.823793</td>\n",
       "      <td>0.230393</td>\n",
       "      <td>0.291582</td>\n",
       "      <td>0.090864</td>\n",
       "      <td>0.062303</td>\n",
       "      <td>GALAXY</td>\n",
       "      <td>STARBURST</td>\n",
       "    </tr>\n",
       "    <tr>\n",
       "      <th>8</th>\n",
       "      <td>1237648720145350846</td>\n",
       "      <td>153.343355</td>\n",
       "      <td>-0.871817</td>\n",
       "      <td>18.95092</td>\n",
       "      <td>17.75390</td>\n",
       "      <td>17.22394</td>\n",
       "      <td>16.90525</td>\n",
       "      <td>16.67649</td>\n",
       "      <td>1.197025</td>\n",
       "      <td>0.529955</td>\n",
       "      <td>0.318687</td>\n",
       "      <td>0.228767</td>\n",
       "      <td>0.047484</td>\n",
       "      <td>GALAXY</td>\n",
       "      <td>STARFORMING</td>\n",
       "    </tr>\n",
       "    <tr>\n",
       "      <th>14</th>\n",
       "      <td>1237648720678944894</td>\n",
       "      <td>145.874449</td>\n",
       "      <td>-0.608755</td>\n",
       "      <td>18.19744</td>\n",
       "      <td>16.69651</td>\n",
       "      <td>16.01479</td>\n",
       "      <td>15.64210</td>\n",
       "      <td>15.39185</td>\n",
       "      <td>1.500925</td>\n",
       "      <td>0.681723</td>\n",
       "      <td>0.372692</td>\n",
       "      <td>0.250249</td>\n",
       "      <td>0.071590</td>\n",
       "      <td>GALAXY</td>\n",
       "      <td>STARFORMING</td>\n",
       "    </tr>\n",
       "    <tr>\n",
       "      <th>18</th>\n",
       "      <td>1237648720682287313</td>\n",
       "      <td>153.595670</td>\n",
       "      <td>-0.625326</td>\n",
       "      <td>17.57071</td>\n",
       "      <td>16.13495</td>\n",
       "      <td>15.39250</td>\n",
       "      <td>15.00002</td>\n",
       "      <td>14.68709</td>\n",
       "      <td>1.435757</td>\n",
       "      <td>0.742447</td>\n",
       "      <td>0.392484</td>\n",
       "      <td>0.312931</td>\n",
       "      <td>0.085927</td>\n",
       "      <td>GALAXY</td>\n",
       "      <td>STARFORMING</td>\n",
       "    </tr>\n",
       "    <tr>\n",
       "      <th>22</th>\n",
       "      <td>1237648721215946942</td>\n",
       "      <td>146.299839</td>\n",
       "      <td>-0.119995</td>\n",
       "      <td>17.86945</td>\n",
       "      <td>15.94067</td>\n",
       "      <td>14.97828</td>\n",
       "      <td>14.50247</td>\n",
       "      <td>14.08414</td>\n",
       "      <td>1.928787</td>\n",
       "      <td>0.962383</td>\n",
       "      <td>0.475814</td>\n",
       "      <td>0.418324</td>\n",
       "      <td>0.030704</td>\n",
       "      <td>GALAXY</td>\n",
       "      <td>AGN</td>\n",
       "    </tr>\n",
       "  </tbody>\n",
       "</table>\n",
       "</div>"
      ],
      "text/plain": [
       "                  objID          ra       dec         u         g         r  \\\n",
       "5   1237648720145285449  153.306341 -0.896848  18.95948  18.13569  17.90530   \n",
       "8   1237648720145350846  153.343355 -0.871817  18.95092  17.75390  17.22394   \n",
       "14  1237648720678944894  145.874449 -0.608755  18.19744  16.69651  16.01479   \n",
       "18  1237648720682287313  153.595670 -0.625326  17.57071  16.13495  15.39250   \n",
       "22  1237648721215946942  146.299839 -0.119995  17.86945  15.94067  14.97828   \n",
       "\n",
       "           i         z       u_g       g_r       r_i       i_z  redshift  \\\n",
       "5   17.61372  17.52285  0.823793  0.230393  0.291582  0.090864  0.062303   \n",
       "8   16.90525  16.67649  1.197025  0.529955  0.318687  0.228767  0.047484   \n",
       "14  15.64210  15.39185  1.500925  0.681723  0.372692  0.250249  0.071590   \n",
       "18  15.00002  14.68709  1.435757  0.742447  0.392484  0.312931  0.085927   \n",
       "22  14.50247  14.08414  1.928787  0.962383  0.475814  0.418324  0.030704   \n",
       "\n",
       "     class     subclass  \n",
       "5   GALAXY    STARBURST  \n",
       "8   GALAXY  STARFORMING  \n",
       "14  GALAXY  STARFORMING  \n",
       "18  GALAXY  STARFORMING  \n",
       "22  GALAXY          AGN  "
      ]
     },
     "execution_count": 8,
     "metadata": {},
     "output_type": "execute_result"
    }
   ],
   "source": [
    "import pandas as pd\n",
    "\n",
    "# Read in file using comment parameter to drop unwanted lines\n",
    "df = pd.read_csv(\"Skyserver_CrossID4_12_2025 6_06_46 PM.csv\", comment='#')\n",
    "\n",
    "# Dropped na Rows\n",
    "df = df.dropna()\n",
    "\n",
    "# Display Dataframe\n",
    "df.head()"
   ]
  },
  {
   "cell_type": "code",



   "execution_count": 7,

   "id": "a9eb88d1-0992-42bb-ac38-f23e035469d3",
   "metadata": {},
   "outputs": [
    {
     "data": {

      "text/plain": [
       "array(['STARFORMING', 'STARBURST', 'AGN', 'STARFORMING BROADLINE',\n",
       "       'BROADLINE', 'AGN BROADLINE', 'STARBURST BROADLINE'], dtype=object)"
      ]
     },
     "execution_count": 7,
     "metadata": {},
     "output_type": "execute_result"
    }
   ],

   "source": [
    "df['subclass'].unique()\n",
    "\n",
    "mask = ['STARFORMING BROADLINE', 'AGN BROADLINE', 'STARBURST BROADLINE']\n",
    "\n",
    "df_filtered = df[~df['subclass'].isin(mask)].copy()"
   ]
  },
  {
   "cell_type": "code",
   "execution_count": 10,
   "id": "c71fa036-ff1f-4fcc-b37c-27c6b8c4d79f",
   "metadata": {},
   "outputs": [
    {
     "name": "stdout",
     "output_type": "stream",
     "text": [
      "subclass\n",
      "STARFORMING    7608\n",
      "STARBURST      2495\n",
      "AGN             643\n",
      "BROADLINE       431\n",
      "Name: count, dtype: int64\n"
     ]
    }
   ],
   "source": [
    "from sklearn.preprocessing import StandardScaler\n",
    "\n",
    "features = df[['u', 'g', 'r', 'i', 'z', 'u_g', 'g_r', 'r_i', 'redshift']]\n",
    "\n",
    "scaler = StandardScaler()\n",
    "features_scaled = scaler.fit_transform(features)\n",
    "\n",
    "y = df_filtered['subclass']#.map(label_mapping)\n",
    "\n",
    "print(y.value_counts())"

   ]
  },
  {
   "cell_type": "code",
   "execution_count": null,
   "id": "72f64925-6d56-4c75-b895-9fd75f2b1d9f",
   "metadata": {},
   "outputs": [],
   "source": []
  }
 ],
 "metadata": {
  "kernelspec": {
   "display_name": "Python 3.11 (default)",
   "language": "python",
   "name": "python3"
  },
  "language_info": {
   "codemirror_mode": {
    "name": "ipython",
    "version": 3
   },
   "file_extension": ".py",
   "mimetype": "text/x-python",
   "name": "python",
   "nbconvert_exporter": "python",
   "pygments_lexer": "ipython3",
   "version": "3.11.11"
  }
 },
 "nbformat": 4,
 "nbformat_minor": 5
}
