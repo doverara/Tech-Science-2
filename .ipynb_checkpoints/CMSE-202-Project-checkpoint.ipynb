{
 "cells": [
  {
   "cell_type": "markdown",
   "id": "2324b4c0-e266-4431-b398-cc649790652f",
   "metadata": {},
   "source": [
    "# CMSE 202 Semester Project: Predicting Star Type from Physical Attributes"
   ]
  },
  {
   "cell_type": "markdown",
   "id": "bbb5efd3-a92f-4c9f-b6d2-c9be1f32816e",
   "metadata": {},
   "source": [
    "# Abstract\n",
    "\n",
    "### Research Question: \n",
    "\n",
    "Can we accurately predict the type of a star using its physical properties sucha as temperature, luminosity, and radius?\n",
    "\n",
    "### Methodologies & Reasoning\n",
    "\n",
    "This section details the thought process and steps each team member followed in developing the questions and answers for this project. By breaking down our individual approaches, we aim to provide transparency and insight into our problem-solving methodologies.\n",
    "\n",
    "**Team Contributions:**\n",
    "\n",
    "- **Araynah D.**:  \n",
    "  *(Description of the approach or key insights can be added here.)*\n",
    "\n",
    "- **Palmer W.**:  \n",
    "  *(Description of the approach or key insights can be added here.)*\n",
    "\n",
    "- **Katrina S.**:  \n",
    "  *(Description of the approach or key insights can be added here.)*\n",
    "\n",
    "- **Yihan W.**:  \n",
    "  *(Description of the approach or key insights can be added here.)*\n"
   ]
  },
  {
   "cell_type": "code",
   "execution_count": null,
   "id": "1343edae-c767-447a-b217-5617b3b45468",
   "metadata": {},
   "outputs": [],
   "source": []
  }
 ],
 "metadata": {
  "kernelspec": {
   "display_name": "Python 3.11 (default)",
   "language": "python",
   "name": "python3"
  },
  "language_info": {
   "codemirror_mode": {
    "name": "ipython",
    "version": 3
   },
   "file_extension": ".py",
   "mimetype": "text/x-python",
   "name": "python",
   "nbconvert_exporter": "python",
   "pygments_lexer": "ipython3",
   "version": "3.11.11"
  }
 },
 "nbformat": 4,
 "nbformat_minor": 5
}
